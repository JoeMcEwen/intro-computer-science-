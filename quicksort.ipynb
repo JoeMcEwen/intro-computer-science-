{
 "cells": [
  {
   "cell_type": "markdown",
   "metadata": {},
   "source": [
    "# Quicksort\n",
    "## CSC 110 Spring 2020\n",
    "## Joe McEwen, (c) 2020\n",
    "\n",
    "[Quicksort](https://en.wikipedia.org/wiki/Quicksort) is a sorting algorithm. For example, suppose we had the list [12, -20, 14, 80, 1], when the quicksort algorithm is applied to this list the return would be the list [-20, 1, 12, 14, 80]. The quicksort algorithm is also a good example of using recursion in python (i.e. the ability of a function call itself.)\n",
    "\n",
    "There are two parts to the quick sort algorithm, the partition function, and a recursive fuction that utilizes the partition function. \n",
    "\n",
    "In this notebook we will utilize the Lomuto partition scheme (see the wikipedia page for more information). The psuedo code for this method is below. \n",
    "\n",
    "**algorithm quicksort**(A, lo, hi) is  \n",
    "$\\quad$ **if** lo < hi **then**  \n",
    "$\\quad$ $\\quad$ p := partition(A, lo, hi)  \n",
    "$\\quad$ $\\quad$ quicksort(A, lo, p - 1)  \n",
    "$\\quad$ $\\quad$ quicksort(A, p + 1, hi)\n",
    "\n",
    "**algorithm partition**(A, lo, hi) is  \n",
    "$\\quad$ pivot := A[hi]  \n",
    "$\\quad$ $\\quad$ i := lo  \n",
    "$\\quad$ $\\quad$ $\\quad$ **for** j := lo **to** hi **do**  \n",
    "$\\quad$ $\\quad$ $\\quad$ $\\quad$**if** A[j] < pivot **then**  \n",
    "$\\quad$ $\\quad$ $\\quad$ $\\quad$ $\\quad$ swap A[i] with A[j]  \n",
    "$\\quad$ $\\quad$ $\\quad$ $\\quad$ $\\quad$ i := i + 1  \n",
    "$\\quad$ $\\quad$ $\\quad$ $\\quad$ $\\quad$ swap A[i] with A[hi]  \n",
    "$\\quad$**return** i\n",
    "\n",
    "Note: the algorithm is written in psuedo code and we should be careful that when we write our code in python we get our location indexing correct. \n"
   ]
  },
  {
   "cell_type": "markdown",
   "metadata": {},
   "source": [
    "## understanding the algorithm\n",
    "To understand the algorithm lets explicitly walk through an example using words (instead of code) as move along. \n",
    "\n",
    "The example list will be [20, 0, -10, 15, 5]. We will start with the following values for low, high, and the pivot. Remember that the pivot in our algorithm is the \"right\" most element in the list. \n",
    "\n",
    "low=0 \n",
    "\n",
    "high=4 \n",
    "\n",
    "pivot = 5\n",
    "\n",
    "list=[20, 0, -10, 15, 5]\n",
    "\n",
    "**start loop**  \n",
    "* i =-1, j=0 (Note values of i and j are reflective of the fact that python location indexing starts at zero.)\n",
    "* ask 20 <= 5 (False), move on \n",
    "\n",
    "**second iteration**\n",
    "* i=-1, j=1\n",
    "* ask 0 <=5 (True) \n",
    "* then i=i+1 (i =0) \n",
    "* swap i and j elements\n",
    "* new list is [0, 20, -10, 15, 5]  ( note things less than the pivot are moving to the left of i+1) \n",
    "\n",
    "**third iteration**\n",
    "* i=0, j=2\n",
    "* ask -10 <= 5 (true)\n",
    "* then i=i+1 (i =1) \n",
    "* swap i and j elements\n",
    "* new list is [0, -10, 20, 15, 5] ( note things less than the pivot are moving to the left of i+1) \n",
    "\n",
    "**fourth iteration** \n",
    "* i=1, j=3\n",
    "* ask 15 <= 5 (False), move on\n",
    "\n",
    "**end of loop**\n",
    "\n",
    "Now, i is at 1. Everything to the left of i+1 (=2) is less than the pivot. Everything to the right of (including) i+1 is greater than the pivot (up to the element[high]. The last step is to swap the element at i+1 and high, so that the \n",
    "list is now:\n",
    "[0, -10, 5, 15, 20]\n",
    "\n",
    "The final step places the pivot value at is \"correct\" location. \n",
    "\n",
    "The partition function would then return the pivot location i+1 (=2). \n",
    "\n",
    "The list can then be split between into sections\n",
    "\\begin{align} \n",
    "[ \\underbrace{ 0, -10 }_{left},5, \\underbrace{ 15, 20 }_{right} ]~. \n",
    "\\end{align} \n",
    "We then would perform quicksork on the left and right sections. \n",
    "\n",
    "The recursive aspect of the quicksort algorithm is diplayed in the image below (take from here: https://www.techiedelight.com/quicksort/). \n",
    "\n",
    "![](Quicksort.png)"
   ]
  },
  {
   "cell_type": "markdown",
   "metadata": {},
   "source": [
    "## Python verions of quicksort\n",
    "A python version of quick sort is coded below."
   ]
  },
  {
   "cell_type": "code",
   "execution_count": 1,
   "metadata": {},
   "outputs": [],
   "source": [
    "def partition(array,low,high):\n",
    "    \n",
    "    pivot=array[high]\n",
    "    \n",
    "    i=(low-1) \n",
    "    \n",
    "    for j in range(low,high):\n",
    "        \n",
    "        if array[j] <= pivot:\n",
    "            # if element is less than or equal to pivot swap \n",
    "            i+=1\n",
    "           \n",
    "            array[j], array[i] = array[i] , array[j]\n",
    "            \n",
    "   \n",
    "    array[i+1], array[high]=array[high], array[i+1]\n",
    "    \n",
    "    return i + 1\n",
    "\n",
    "def quicksort(array,low,high): \n",
    "    if low < high: \n",
    "  \n",
    "        i_pivot= partition(array,low,high) \n",
    "  \n",
    "        quicksort(array,low, i_pivot-1) \n",
    "        quicksort(array,i_pivot+1, high) \n",
    "        "
   ]
  },
  {
   "cell_type": "code",
   "execution_count": 2,
   "metadata": {},
   "outputs": [
    {
     "name": "stdout",
     "output_type": "stream",
     "text": [
      "[1, -6, -13, -12, -16, -13, 20, -2, 4, -1, 1, -1, 11, 17, -3]\n"
     ]
    }
   ],
   "source": [
    "# generate a list of integers using randint\n",
    "# from the random library \n",
    "\n",
    "from random import randint\n",
    "\n",
    "array=[]\n",
    "n=15\n",
    "max_val=20\n",
    "min_val=-20\n",
    "\n",
    "for i in range(n):\n",
    "    array.append(randint(min_val,max_val))\n",
    "    \n",
    "print(array)"
   ]
  },
  {
   "cell_type": "code",
   "execution_count": 3,
   "metadata": {},
   "outputs": [
    {
     "name": "stdout",
     "output_type": "stream",
     "text": [
      "[-16, -13, -13, -12, -6, -3, -2, -1, -1, 1, 1, 4, 11, 17, 20]\n"
     ]
    }
   ],
   "source": [
    "quicksort(array,0,len(array)-1)\n",
    "print(array)"
   ]
  },
  {
   "cell_type": "markdown",
   "metadata": {},
   "source": [
    "## Big-O \n",
    "How many comparisons does quicksort need to make to sort a list of numbers? The answer, of course, depends on the number of elements in the array. We often talk about the performance of an algorithm in terms of what is called big-O notation. In the best case scenario, quick sort takes order $n \\log(n)$ opertations, where n is the number of elements in the array. In big-O notation this is $O(n\\log(n))$. In the worst case scenario quicksort takes $n^2$ operations. \n",
    "Below is a plot of several big-O operations. "
   ]
  },
  {
   "cell_type": "code",
   "execution_count": 19,
   "metadata": {},
   "outputs": [
    {
     "data": {
      "text/plain": [
       "<matplotlib.legend.Legend at 0x11f625810>"
      ]
     },
     "execution_count": 19,
     "metadata": {},
     "output_type": "execute_result"
    },
    {
     "data": {
      "image/png": "[encoded data removed]",
      "text/plain": [
       "<Figure size 432x288 with 1 Axes>"
      ]
     },
     "metadata": {
      "needs_background": "light"
     },
     "output_type": "display_data"
    }
   ],
   "source": [
    "import numpy as np\n",
    "%matplotlib inline\n",
    "import matplotlib.pyplot as plt\n",
    "n=np.arange(1,100)\n",
    "\n",
    "\n",
    "nlogn=n*np.log2(n)\n",
    "\n",
    "fig=plt.figure()\n",
    "ax=fig.add_subplot()\n",
    "ax.plot(n,n,label=r\"$O(n)$\")\n",
    "ax.plot(n,n**2,label=r\"$O(n^2)$\")\n",
    "ax.plot(n,nlogn,label=r\"$O(n\\log(n))$\")\n",
    "ax.grid()\n",
    "ax.legend()"
   ]
  },
  {
   "cell_type": "code",
   "execution_count": null,
   "metadata": {},
   "outputs": [],
   "source": []
  }
 ],
 "metadata": {
  "kernelspec": {
   "display_name": "Python 3",
   "language": "python",
   "name": "python3"
  },
  "language_info": {
   "codemirror_mode": {
    "name": "ipython",
    "version": 3
   },
   "file_extension": ".py",
   "mimetype": "text/x-python",
   "name": "python",
   "nbconvert_exporter": "python",
   "pygments_lexer": "ipython3",
   "version": "3.7.6"
  }
 },
 "nbformat": 4,
 "nbformat_minor": 4
}
